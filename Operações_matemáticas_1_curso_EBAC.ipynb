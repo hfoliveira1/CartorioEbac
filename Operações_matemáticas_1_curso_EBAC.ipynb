{
  "cells": [
    {
      "cell_type": "markdown",
      "metadata": {
        "id": "view-in-github",
        "colab_type": "text"
      },
      "source": [
        "<a href=\"https://colab.research.google.com/github/hfoliveira1/CartorioEbac/blob/main/Opera%C3%A7%C3%B5es_matem%C3%A1ticas_1_curso_EBAC.ipynb\" target=\"_parent\"><img src=\"https://colab.research.google.com/assets/colab-badge.svg\" alt=\"Open In Colab\"/></a>"
      ]
    },
    {
      "cell_type": "markdown",
      "source": [
        "**Recebendo valores**"
      ],
      "metadata": {
        "id": "ikL-RPfPTDtw"
      }
    },
    {
      "cell_type": "code",
      "source": [
        "print(\"Qual item do menu deseja realizar:\")\n",
        "print('1-Multiplicação\\n2-Soma\\n3-Subtração\\n4-Divisão')\n",
        "\n",
        "menu=int(input('item escolhido:'))\n",
        "valor_1=int(input(\"Por favor, digite o valor 1:\"))\n",
        "valor_2=int(input(\"Por favor, digite o valor 2:\"))\n",
        "\n",
        "if menu==1:\n",
        "  multiplicacao=(valor_1*valor_2)\n",
        "  print('O resultado da multiplicação foi:',multiplicacao)\n",
        "\n",
        "if menu==2:\n",
        "   soma=(valor_1+valor_2)\n",
        "   print('O resultado da soma foi:',soma)\n",
        "\n",
        "if menu==3:\n",
        "  subtracao=(valor_1-valor_2)\n",
        "  print('O resultado da subtração foi:',subtracao)\n",
        "\n",
        "if menu==4:\n",
        "   divisao=(valor_1/valor_2)\n",
        "   print('O resultado da divisão foi:',divisao)\n",
        "\n",
        "\n",
        "\n",
        "\n",
        "\n",
        "\n",
        "\n",
        "\n",
        "\n",
        "\n",
        "\n"
      ],
      "metadata": {
        "colab": {
          "base_uri": "https://localhost:8080/"
        },
        "id": "0QV9HHSEntAH",
        "outputId": "0846da2d-9b23-4a56-de6a-a5e59ce4ce65"
      },
      "execution_count": null,
      "outputs": [
        {
          "output_type": "stream",
          "name": "stdout",
          "text": [
            "Qual item do menu deseja realizar:\n",
            "1-Multiplicação\n",
            "2-Soma\n",
            "3-Subtração\n",
            "4-Divisão\n"
          ]
        }
      ]
    },
    {
      "cell_type": "markdown",
      "source": [
        "# Multiplicação"
      ],
      "metadata": {
        "id": "sO6BbrVvS9bj"
      }
    },
    {
      "cell_type": "code",
      "source": [
        "\n",
        "multiplicacao=(valor_1*valor_2);\n",
        "print('a multiplicação dos dois números escolhidos é:',multiplicacao)"
      ],
      "metadata": {
        "colab": {
          "base_uri": "https://localhost:8080/"
        },
        "id": "RXLH8s1dSDu6",
        "outputId": "118b01e2-884c-448d-aa02-9241205e9216"
      },
      "execution_count": null,
      "outputs": [
        {
          "output_type": "stream",
          "name": "stdout",
          "text": [
            "a multiplicação dos dois números escolhidos é: 12\n"
          ]
        }
      ]
    },
    {
      "cell_type": "code",
      "source": [
        "\n",
        "soma=(valor_1+valor_2);\n",
        "print('a soma dos dois números escolhidos é:',soma)"
      ],
      "metadata": {
        "colab": {
          "base_uri": "https://localhost:8080/"
        },
        "id": "Ui7iHPfzSfS1",
        "outputId": "a4642135-66dd-4387-d6a6-a02cadb4138c"
      },
      "execution_count": null,
      "outputs": [
        {
          "output_type": "stream",
          "name": "stdout",
          "text": [
            "a soma dos dois números escolhidos é: 16\n"
          ]
        }
      ]
    },
    {
      "cell_type": "code",
      "source": [],
      "metadata": {
        "id": "vCg-Iji6P9t0"
      },
      "execution_count": null,
      "outputs": []
    }
  ],
  "metadata": {
    "colab": {
      "provenance": [],
      "include_colab_link": true
    },
    "kernelspec": {
      "display_name": "Python 3",
      "name": "python3"
    }
  },
  "nbformat": 4,
  "nbformat_minor": 0
}